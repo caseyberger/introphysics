{
  "nbformat": 4,
  "nbformat_minor": 0,
  "metadata": {
    "colab": {
      "name": "Vectors 9.17.2021.ipynb",
      "provenance": [],
      "collapsed_sections": [],
      "authorship_tag": "ABX9TyNt6iwHX1sEkETmZQixagVT",
      "include_colab_link": true
    },
    "kernelspec": {
      "name": "python3",
      "display_name": "Python 3"
    },
    "language_info": {
      "name": "python"
    }
  },
  "cells": [
    {
      "cell_type": "markdown",
      "metadata": {
        "id": "view-in-github",
        "colab_type": "text"
      },
      "source": [
        "<a href=\"https://colab.research.google.com/github/caseyberger/introphysics/blob/main/Vectors_9_17_2021.ipynb\" target=\"_parent\"><img src=\"https://colab.research.google.com/assets/colab-badge.svg\" alt=\"Open In Colab\"/></a>"
      ]
    },
    {
      "cell_type": "markdown",
      "metadata": {
        "id": "CwvktN6-4zAZ"
      },
      "source": [
        "# Programming Vectors!\n",
        "\n",
        "We're going to use just a little bit of Python code to practice vector addition and subtraction and multiplication by a scalar. \n",
        "\n",
        "Here's how this worksheet will work. I have written most of the code and included context and instructions throughout. Please read all the text, but if there is something you have to do, I have included it as a bullet point.\n",
        "* (in the notebook) for example, right now all you have to do is move on to the next piece of instructions :)\n",
        "\n"
      ]
    },
    {
      "cell_type": "markdown",
      "metadata": {
        "id": "qmhOOMszkhpC"
      },
      "source": [
        "## Setting up the coding environment\n",
        "In the cell below, I have written \"import numpy as np\" and import matplotlib.pyplot as plt. This just means we are going to use two packages that someone else has written for Python, and in order to use functions from the package \"numpy\", we will use the prefix \"np\" and to use functions from \"matplotlib.pyplot\", we will use the prefix \"plt.\" Don't worry too much about these details for now, but every time you see \"np\" or \"plt\" that just means we're using something from one of those packages.\n",
        "\n",
        "*   (in the notebook) Press the \"play\" button on the cell below to run the code\n",
        "*   (in the notebook) You can also use Shift+Enter to do this\n",
        "\n",
        "Once you have done this, you should see a number (e.g. [1]) on the left end of the cell, plus a little green check mark."
      ]
    },
    {
      "cell_type": "code",
      "metadata": {
        "id": "ffGWxIbG4wx4"
      },
      "source": [
        "import numpy as np\n",
        "import matplotlib.pyplot as plt"
      ],
      "execution_count": null,
      "outputs": []
    },
    {
      "cell_type": "markdown",
      "metadata": {
        "id": "dPwvs1_Ll2aG"
      },
      "source": [
        "## Magnitude and Direction\n",
        "We're going to start by doing everything on paper. \n",
        "\n",
        "If I am at the Smith College Office of Admissions on College Ln and walk South for 1/4 mile, I will arrive at McConnell Hall. (Assume College Ln is perfectly straight N-S.)\n",
        "* (on paper) Write the vector that describes my displacement from the Admissions Office to McConnell Hall\n",
        "* (on paper) What is the magnitude of my displacement?\n",
        "* (on paper) What is the direction?\n",
        "\n",
        "If I turn at McConnell Hall and go East for 1/4 mile, I will be (basically) at Nielsen Library.\n",
        "* (on paper) Write the vector that describes my displacement from McConnell to Nielsen.\n",
        "* (on paper) What is the magnitude of my displacement for this part of my walk?\n",
        "* (on paper) What is the direction?\n",
        "\n",
        "What is my total displacement?\n",
        "* (on paper) Draw both displacement vectors together (use the tail-to-tip method)\n",
        "* (on paper) Draw the total displacement vector from Admissions to Nielsen.\n",
        "* (on paper) What is the magnitude?\n",
        "* (on paper) What is the direction?"
      ]
    },
    {
      "cell_type": "markdown",
      "metadata": {
        "id": "KpqjYO3Is8Pc"
      },
      "source": [
        "## Components\n",
        "We can represent vectors with any arbitrary direction by breaking them into their components along our coordinate axes."
      ]
    },
    {
      "cell_type": "markdown",
      "metadata": {
        "id": "0AoU-qAQoWAW"
      },
      "source": [
        "## Representing vectors in Python\n",
        "Now, we're going to take our answers from the last section and express them using Python. \n",
        "* (in the notebook) I have defined a generic vector below. Replace \"disN\" with your displacement in the N-S direction and \"disE\" with your displacement in the E-W direction for the first part of the walk to Nielson \n",
        "* (in the notebook) Write the vector for the second part of my walk to Nielson in the same format.\n",
        "\n",
        "BE CAREFUL: what have you chosen as the positive direction for N-S and E-W? If you pick North to be positive, how would you show that you walked South? We tend (in the US) to see North as up and East as right.\n",
        "\n",
        "UNITS: for now, we are not going to worry about units. In this notebook, everything will be in miles, so you do not need to indicate this in the notebook. \n"
      ]
    },
    {
      "cell_type": "code",
      "metadata": {
        "id": "Y0-0Ai-p43ha"
      },
      "source": [
        "displacement1 = np.array([dis1E,dis1N])\n",
        "displacement2 = np.array([dis2E,dis2N])"
      ],
      "execution_count": null,
      "outputs": []
    },
    {
      "cell_type": "markdown",
      "metadata": {
        "id": "7j12w0gPwdAg"
      },
      "source": [
        "Now, we're going to draw these two displacement vectors. Let's start with the first one -- my walk from Admissions to McConnell, or displacement1.\n",
        "\n",
        "Let's set our origin (where I start my walk) as (0,0). "
      ]
    },
    {
      "cell_type": "code",
      "metadata": {
        "id": "peGxamSoaPg9"
      },
      "source": [
        "origin1 = np.array([0,0])\n",
        "\n",
        "plt.xlim(-0.35, 0.35)\n",
        "plt.ylim(-0.35, 0.35)\n",
        "plt.xticks([])\n",
        "plt.yticks([])\n",
        "\n",
        "ax = plt.axes()\n",
        "ax.set_aspect(aspect = \"equal\")\n",
        "\n",
        "\n",
        "ax.arrow(origin1[0],origin1[1],displacement1[0], displacement1[1], head_width = 0.02, head_length = 0.02)\n",
        "\n",
        "plt.show()"
      ],
      "execution_count": null,
      "outputs": []
    },
    {
      "cell_type": "markdown",
      "metadata": {
        "id": "38amcbk2d3cK"
      },
      "source": [
        "Using the tail to tip method, we need to be careful about our origins. We picked the origin for displacement 1 to be (0,0), but displacement 2 has to start in a specific location.\n",
        "\n",
        "* (on paper) What should the origin be for displacement 2?\n",
        "\n",
        "The code below will draw these two displacement vectors in the tail-to-tip style.\n",
        "\n",
        "* (in the notebook) Enter the N and E components of origin2 (the origin of the displacement2 vector)\n",
        "* (in the notebook) Run the code in the cell below and see the vectors appear!"
      ]
    },
    {
      "cell_type": "code",
      "metadata": {
        "id": "GNtyH3aNeA_G"
      },
      "source": [
        "origin2 = np.array([o2E, o2N])\n",
        "\n",
        "plt.xlim(-0.35, 0.35)\n",
        "plt.ylim(-0.35, 0.35)\n",
        "plt.xticks([])\n",
        "plt.yticks([])\n",
        "\n",
        "ax = plt.axes()\n",
        "ax.set_aspect(aspect = \"equal\")\n",
        "\n",
        "ax.arrow(origin1[0],origin1[1],displacement1[0], displacement1[1], head_width = 0.02, head_length = 0.02)\n",
        "ax.arrow(origin2[0],origin2[1],displacement2[0], displacement2[1], head_width = 0.02, head_length = 0.02)\n",
        "\n",
        "plt.show()\n"
      ],
      "execution_count": null,
      "outputs": []
    },
    {
      "cell_type": "markdown",
      "metadata": {
        "id": "Qcp1KX1sXxht"
      },
      "source": [
        "Finally, let's add our vectors together to get the resultant vector!\n",
        "\n",
        "* (on paper) Write out my total displacement from Admissions to Nielson as a vector.\n",
        "* (on paper) Write out my total displacement vector in terms of its components in the N-S and E-W directions.\n",
        "* (in the notebook) *add* the two displacement vectors together to get the total displacement!\n",
        "* (in the notebook) Define an origin for the total displacement vector.\n",
        "* (in the notebook) Run the cell to see the resultant vector!"
      ]
    },
    {
      "cell_type": "code",
      "metadata": {
        "id": "v9UIMBONwg_P"
      },
      "source": [
        "displacementtotal = displacement1 + displacement2\n",
        "origintotal = np.array([0,0])\n",
        "\n",
        "plt.xlim(-0.35, 0.35)\n",
        "plt.ylim(-0.35, 0.35)\n",
        "plt.xticks([])\n",
        "plt.yticks([])\n",
        "\n",
        "ax = plt.axes()\n",
        "ax.set_aspect(aspect = \"equal\")\n",
        "\n",
        "ax.arrow(origin1[0],origin1[1],displacement1[0], displacement1[1], head_width = 0.02, head_length = 0.02)\n",
        "ax.arrow(origin2[0],origin2[1],displacement2[0], displacement2[1], head_width = 0.02, head_length = 0.02)\n",
        "ax.arrow(origintotal[0],origintotal[1],displacementtotal[0], displacementtotal[1], head_width = 0.02, head_length = 0.02, color = \"r\")\n",
        "\n",
        "plt.show()\n"
      ],
      "execution_count": null,
      "outputs": []
    },
    {
      "cell_type": "markdown",
      "metadata": {
        "id": "LJ1WnQIwhgas"
      },
      "source": [
        "Now you have a plot of the three displacement vectors - displacement from Admissions to McConnell, from McConnell to Nielson, and from Admissions to Nielson.\n",
        "\n",
        "* (on paper) What parallels do you see between vectors in programming and vectors in mathematics?\n",
        "* (on paper) What are some things you will need to be careful about when dealing with vectors, whether in code or in mathematics?"
      ]
    },
    {
      "cell_type": "markdown",
      "metadata": {
        "id": "wbGaYff4kd3p"
      },
      "source": [
        "### Walking at an angle"
      ]
    },
    {
      "cell_type": "markdown",
      "metadata": {
        "id": "cVac2BbDp-rV"
      },
      "source": [
        "What if, instead of going East to Nielsen Library, I decide I want to go to the track and run some laps. So I go from McConnell Hall 30 degrees South of West across the river for another 1/4 mile.\n",
        "* (on paper) Write the vector that describes my displacement from McConnell to the track.\n",
        "* (on paper) What is the magnitude of my displacement for this part of my walk?\n",
        "* (on paper) What is my direction?\n",
        "* (on paper) Break this part of the walk into two components: the amount I walked South and the amount I walked West. Find the relationship between these two components and the displacement vector using trig.\n",
        "* (in the notebook) Add the component vectors to the plot below, where I have already drawn the displacement vector\n",
        "NOTE: you can use trig with numpy! np.sin(angle) and np.cos(angle), but beware: this uses radians, not degrees, so you have to convert first!"
      ]
    },
    {
      "cell_type": "code",
      "metadata": {
        "id": "NJZPZqOHqD6e"
      },
      "source": [
        "resultant = np.array([-0.22,-0.13])\n",
        "originresultant = np.array([0,0])\n",
        "\n",
        "plt.xlim(-0.35, 0.35)\n",
        "plt.ylim(-0.35, 0.35)\n",
        "plt.xticks([])\n",
        "plt.yticks([])\n",
        "\n",
        "ax = plt.axes()\n",
        "ax.set_aspect(aspect = \"equal\")\n",
        "\n",
        "ax.arrow(originresultant[0],originresultant[1],resultant[0], resultant[1], head_width = 0.02, head_length = 0.02, color = \"r\")\n",
        "\n",
        "plt.show()\n"
      ],
      "execution_count": null,
      "outputs": []
    }
  ]
}