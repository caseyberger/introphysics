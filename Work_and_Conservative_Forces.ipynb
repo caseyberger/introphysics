{
  "nbformat": 4,
  "nbformat_minor": 0,
  "metadata": {
    "colab": {
      "name": "Work and Conservative Forces",
      "provenance": [],
      "collapsed_sections": [],
      "include_colab_link": true
    },
    "kernelspec": {
      "name": "python3",
      "display_name": "Python 3"
    }
  },
  "cells": [
    {
      "cell_type": "markdown",
      "metadata": {
        "id": "view-in-github",
        "colab_type": "text"
      },
      "source": [
        "<a href=\"https://colab.research.google.com/github/caseyberger/introphysics/blob/main/Zoom_Work_and_Conservative_Forces.ipynb\" target=\"_parent\"><img src=\"https://colab.research.google.com/assets/colab-badge.svg\" alt=\"Open In Colab\"/></a>"
      ]
    },
    {
      "cell_type": "markdown",
      "metadata": {
        "id": "CFPzF26hB1ch"
      },
      "source": [
        "##Introduction to colab"
      ]
    },
    {
      "cell_type": "markdown",
      "metadata": {
        "id": "b64oUPKyVy18"
      },
      "source": [
        "The first cell (block of code) just tells the computer what tools I want to use. In this case numpy will help us with math and matplotlib.pyplot will help us make plots. To run this line and load these tools into the program, you can do one of two things:\n",
        "\n",
        "- Press the \"play\" button that appears in the upper left corner when you hover your mouse over the cell\n",
        "- Select the cell and hit Shift+Enter (for a mac) or Ctrl+Shift+Enter (for a PC)"
      ]
    },
    {
      "cell_type": "code",
      "metadata": {
        "id": "YtQnc2h6MyCc"
      },
      "source": [
        "#loading tools\n",
        "import numpy as np\n",
        "import matplotlib.pyplot as plt\n",
        "%matplotlib inline"
      ],
      "execution_count": null,
      "outputs": []
    },
    {
      "cell_type": "markdown",
      "metadata": {
        "id": "wNtKtQrsV1fL"
      },
      "source": [
        "The next section defines some functions for us. This is our way of loading equations into the computer. Let's create the first function together: \n",
        "\n",
        "KineticEnergy: $$K = \\frac{1}{2}m (v_{x}^{2} + v_{y}^2)$$\n",
        "\n",
        "(Once we have created the function, run the cell where the functions are defined to load them into the program)"
      ]
    },
    {
      "cell_type": "code",
      "metadata": {
        "id": "xbsZQ6LnM9X9"
      },
      "source": [
        "#defining the kinetic energy function\n",
        "def KineticEnergy(m,vx,vy):"
      ],
      "execution_count": null,
      "outputs": []
    },
    {
      "cell_type": "markdown",
      "metadata": {
        "id": "e5uB9shF0-X8"
      },
      "source": [
        "Test the function we just wrote. What is the kinetic energy of something with no velocity? What about something with $v_{x} = 2, v_{y}=0$? Use the \"+ Code\" button to create a new code cell and plug these numbers in."
      ]
    },
    {
      "cell_type": "markdown",
      "metadata": {
        "id": "aL2EMzCVGcCR"
      },
      "source": [
        "Below, I've defined some other functions we will be using today:\n",
        "\n",
        "Position (can be used for x or y position):\n",
        "\n",
        "$$y_{f} = y_{i} + v_{y,i}t + \\frac{1}{2} a_{y}t^{2}$$ \n",
        "\n",
        "Velocity: $$v_{f} = v_{i} + a t $$\n",
        "\n",
        "WorkDone: $$W = K_{f}-K_{i}$$"
      ]
    },
    {
      "cell_type": "code",
      "metadata": {
        "id": "A6QBo8FcGa3S"
      },
      "source": [
        "def position(s0, v0, a, t):\n",
        "  s = s0 + v0*t + 0.5*a*t**2\n",
        "  return s\n",
        "  \n",
        "def velocity(v0,a,t):\n",
        "  v = v0 + a*t\n",
        "  return v\n",
        "\n",
        "def WorkDone(K0,Kf):\n",
        "  W = Kf - K0\n",
        "  return W"
      ],
      "execution_count": null,
      "outputs": []
    },
    {
      "cell_type": "markdown",
      "metadata": {
        "id": "puc3lIr1B8XB"
      },
      "source": [
        "## Plotting: Parabolic Motion, Work, and Kinetic Energy"
      ]
    },
    {
      "cell_type": "markdown",
      "metadata": {
        "id": "I6F2QfVuPSX3"
      },
      "source": [
        "Let's discuss the well-known example of throwing a ball. The ball starts with some initial position $(x_{0},y_{0})$ and some initial velocity $\\vec{v} = v_{x,0}\\hat{x} + v_{y,0}\\hat{y}$. Neglecting air resistance, the only acceleration is in the $\\hat{y}$ direction, due to gravity $g$."
      ]
    },
    {
      "cell_type": "markdown",
      "metadata": {
        "id": "C78zyVPcM3RM"
      },
      "source": [
        "Below you can adjust the initial x position, y position, x velocity and y velocity to see different trajectories. Change these numbers around until your plot looks like the path of a ball being thrown straight up in the air."
      ]
    },
    {
      "cell_type": "code",
      "metadata": {
        "id": "JBegXzqVJcZr"
      },
      "source": [
        "#set your initial x, y, vx, and vy values\n",
        "x0 = 0.0; y0 = 0.0; vx0 = 10.0; vy0 = 5.0; \n",
        "\n",
        "#set the gravitational constant\n",
        "g = 9.8 #this is the magnitude... don't forget direction!\n",
        "start_time = 0.0; stop_time = 2*vy0/g; num_points = 50\n",
        "time = np.linspace(start_time,stop_time,num_points)\n",
        "x = position(x0,vx0,0,time)\n",
        "y = position(y0,vy0,-g,time)#note the direction of the acceleration!\n",
        "plt.plot(x,y,color = \"green\")\n",
        "plt.xlabel('x')\n",
        "plt.ylabel('y')\n",
        "plt.title(\"Trajectory of the ball\")\n",
        "plt.show()"
      ],
      "execution_count": null,
      "outputs": []
    },
    {
      "cell_type": "markdown",
      "metadata": {
        "id": "XRShe1tDIVGz"
      },
      "source": [
        "Small group tasks:\n",
        "\n",
        "* Plot the kinetic energy of the ball along its trajectory (hint: you've already entered the initial conditions above)\n",
        "* Can you identify where on the kinetic energy plot the ball is at the top of its trajectory?\n",
        "* Plot the work done\n",
        "* How does the plot of work done compare to the plot of the kinetic energy?\n",
        "* How much total work is done from the start time to the top of the ball's trajectory? How much total work is done from the moment you throw the ball to the moment it returns to your hand?\n",
        "* What is doing the work?\n",
        "\n"
      ]
    },
    {
      "cell_type": "markdown",
      "metadata": {
        "id": "0Ie3YvMGWAYy"
      },
      "source": [
        "In this section, you can plot the kinetic energy of the ball as it goes up and then back down, using the function for kinetic energy we defined above."
      ]
    },
    {
      "cell_type": "code",
      "metadata": {
        "id": "1p-2WvNHLFJL"
      },
      "source": [
        "#kinetic energy plot\n",
        "m = 1.0\n",
        "vy = velocity(vy0,-g,time)\n",
        "vx = velocity(vx0,0,time)\n",
        "K = KineticEnergy(m,vx,vy)\n",
        "plt.plot(time,K,color = \"red\")\n",
        "plt.xlabel('t')\n",
        "plt.ylabel('K')\n",
        "plt.title(\"Kinetic Energy of the ball\")\n",
        "plt.show()"
      ],
      "execution_count": null,
      "outputs": []
    },
    {
      "cell_type": "markdown",
      "metadata": {
        "id": "k2y8luIkWJc1"
      },
      "source": [
        "And here we can plot the work. How does it compare to the kinetic energy?"
      ]
    },
    {
      "cell_type": "code",
      "metadata": {
        "id": "4g_R80_3FvFm"
      },
      "source": [
        "#work plot\n",
        "m = 1.0\n",
        "vy = velocity(vy0,-g,time)\n",
        "vx = velocity(vx0,0,time)\n",
        "K0 = KineticEnergy(m,vx0,vy0)\n",
        "K = KineticEnergy(m,vx,vy)\n",
        "W = WorkDone(K0,K)\n",
        "plt.plot(time,W,color = \"black\")\n",
        "plt.xlabel('t')\n",
        "plt.ylabel('W')\n",
        "plt.title(\"Work Done on the ball\")\n",
        "plt.show()"
      ],
      "execution_count": null,
      "outputs": []
    },
    {
      "cell_type": "markdown",
      "metadata": {
        "id": "IN0S0L8rJ0V4"
      },
      "source": [
        "This is the end of the small group section... if you've answered all the questions, try changing some of the parameters on the plots and see what changes. Or if you want some more advanced coding, try plotting the work and the kinetic energy on the same plot!"
      ]
    },
    {
      "cell_type": "markdown",
      "metadata": {
        "id": "PkAKrv9JByYw"
      },
      "source": [
        "## Potential Energy"
      ]
    },
    {
      "cell_type": "markdown",
      "metadata": {
        "id": "j6g2WlF7WTJX"
      },
      "source": [
        "Let's define a new function below, based on the derivation for gravitational potential energy we just did."
      ]
    },
    {
      "cell_type": "code",
      "metadata": {
        "id": "1Gu412OQMhEe"
      },
      "source": [
        "#define potential energy for gravity\n",
        "def GravPotentialEnergy():"
      ],
      "execution_count": null,
      "outputs": []
    },
    {
      "cell_type": "markdown",
      "metadata": {
        "id": "BzhmAvUlWjDr"
      },
      "source": [
        "And now plot the gravitational potential energy. Make sure to enter the gravitational potential energy function you defined above."
      ]
    },
    {
      "cell_type": "code",
      "metadata": {
        "id": "jgMkof86Nc6q"
      },
      "source": [
        "#gravitational potential energy plot\n",
        "U = #your function here\n",
        "plt.plot(time,U,color = \"blue\")\n",
        "plt.xlabel('t')\n",
        "plt.ylabel('U')\n",
        "plt.title(\"Gravitational Potential Energy of the ball\")\n",
        "plt.show()"
      ],
      "execution_count": null,
      "outputs": []
    },
    {
      "cell_type": "markdown",
      "metadata": {
        "id": "yiEUNskdWqHM"
      },
      "source": [
        "What do we notice when we plot both kinds of energy on top of each other?"
      ]
    },
    {
      "cell_type": "code",
      "metadata": {
        "id": "Zr0OAEp_NrP8"
      },
      "source": [
        "#plotting kinetic and potential energy together\n",
        "plt.plot(time,K,label = \"K\", color = \"red\")\n",
        "plt.plot(time,U,label = \"U\", color = \"blue\")\n",
        "plt.xlabel('t')\n",
        "plt.ylabel('Energy')\n",
        "plt.legend()\n",
        "plt.title(\"Energy of the ball\")\n",
        "plt.show()"
      ],
      "execution_count": null,
      "outputs": []
    },
    {
      "cell_type": "markdown",
      "metadata": {
        "id": "-P5UwzrjWuGf"
      },
      "source": [
        "What if we plotted the total mechanical energy? $E = K + U$"
      ]
    },
    {
      "cell_type": "code",
      "metadata": {
        "id": "1ZUhNNb9OVUX"
      },
      "source": [
        "#plotting total energy\n",
        "plt.plot(time,K,label = \"K\", color = \"red\")\n",
        "plt.plot(time,U,label = \"U\", color = \"blue\")\n",
        "plt.plot(time,np.add(K,U),label = \"K+U\", color = \"purple\")\n",
        "plt.xlabel('t')\n",
        "plt.ylabel('Energy')\n",
        "plt.legend()\n",
        "plt.title(\"Total Energy of the ball\")\n",
        "plt.show()"
      ],
      "execution_count": null,
      "outputs": []
    },
    {
      "cell_type": "markdown",
      "metadata": {
        "id": "GjUAfKnYS2Ah"
      },
      "source": [
        "##Animation: ball rolling down a hill"
      ]
    },
    {
      "cell_type": "markdown",
      "metadata": {
        "id": "Wh3tORIwW0so"
      },
      "source": [
        "The next section animates a situation where a ball is rolling down a hill. To use animations, we have to load more tools in. Do this by running the next cell."
      ]
    },
    {
      "cell_type": "code",
      "metadata": {
        "id": "JbatIr0jW3W5"
      },
      "source": [
        "#loading more tools for animation\n",
        "from matplotlib import animation, rc\n",
        "from IPython.display import HTML"
      ],
      "execution_count": null,
      "outputs": []
    },
    {
      "cell_type": "markdown",
      "metadata": {
        "id": "ghbpbq8hW3ui"
      },
      "source": [
        "And then run the cell below. It will take a while, but eventually an animation will appear below that you can run. What do you notice?"
      ]
    },
    {
      "cell_type": "code",
      "metadata": {
        "id": "OQreJFbZVsca"
      },
      "source": [
        "#animating a ball rolling down the hill\n",
        "hill_height = 1.\n",
        "# First set up the figure, the axis, and the plot element we want to animate\n",
        "fig = plt.figure()\n",
        "ax1 = plt.axes(xlim=(0, 2.5), ylim=(-0.2,1.5*hill_height))\n",
        "\n",
        "lines = []\n",
        "ball_obj = ax1.plot([],[],marker = 'o',markersize=15,color=\"red\")[0]\n",
        "lines.append(ball_obj)\n",
        "hill_obj = ax1.plot([],[],lw=2,color=\"green\")[0]\n",
        "lines.append(hill_obj)\n",
        "\n",
        "def barlist(y):\n",
        "    m = 0.15\n",
        "    g = 9.8\n",
        "    U = m*g*y\n",
        "    E = m*g*hill_height\n",
        "    K = E - U\n",
        "    return [U,K,E]\n",
        "\n",
        "color_list = [\"blue\",\"red\",\"purple\"]\n",
        "x_bar=[1.75,2.,2.25]\n",
        "barcollection = ax1.bar(x_bar,barlist(hill_height),\n",
        "                        width = 0.25, bottom = -0.2, \n",
        "                        color = color_list,alpha = 0.5)\n",
        "\n",
        "def init():\n",
        "    for line in lines:\n",
        "        line.set_data([],[])\n",
        "    return lines\n",
        "\n",
        "x1,y1 = [],[]\n",
        "x2,y2 = [],[]\n",
        "\n",
        "frame_num = 150\n",
        "\n",
        "plt.close()\n",
        "\n",
        "def hill(x,h):\n",
        "  return np.piecewise(x,[x <=1.,x>1.],[lambda x: 0.5*h*(1+np.cos( np.pi * x)) ,lambda x: 0.])\n",
        "\n",
        "def animate(i):\n",
        "\n",
        "    x1 = 0.01*i\n",
        "    y1 = hill(0.01 * i,hill_height)\n",
        "\n",
        "    x2 = np.linspace(0,1.5,100)\n",
        "    y2 = hill(x2,hill_height)-0.07\n",
        "\n",
        "    xlist = [x1, x2]\n",
        "    ylist = [y1, y2]\n",
        "\n",
        "    E_data = barlist(y1)\n",
        "    legend_list = [\"U\",\"K\",\"E\"]\n",
        "    for j, b in enumerate(barcollection):\n",
        "        b.set_height(E_data[j])\n",
        "        b.set_label(legend_list[j])\n",
        "\n",
        "    #for index in range(0,1):\n",
        "    for lnum,line in enumerate(lines):\n",
        "        line.set_data(xlist[lnum], ylist[lnum]) # set data for each line separately. \n",
        "    return lines\n",
        "\n",
        "# call the animator.  blit=True means only re-draw the parts that have changed.\n",
        "anim = animation.FuncAnimation(fig, animate, init_func=init,\n",
        "                               frames=frame_num, interval=20, blit=True)\n",
        "\n",
        "rc('animation', html='jshtml')\n",
        "anim"
      ],
      "execution_count": null,
      "outputs": []
    }
  ]
}
