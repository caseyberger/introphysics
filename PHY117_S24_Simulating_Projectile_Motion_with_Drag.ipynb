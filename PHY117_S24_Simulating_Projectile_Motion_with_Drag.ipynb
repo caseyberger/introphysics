{
  "cells": [
    {
      "cell_type": "markdown",
      "metadata": {
        "id": "view-in-github",
        "colab_type": "text"
      },
      "source": [
        "<a href=\"https://colab.research.google.com/github/caseyberger/introphysics/blob/main/PHY117_S24_Simulating_Projectile_Motion_with_Drag.ipynb\" target=\"_parent\"><img src=\"https://colab.research.google.com/assets/colab-badge.svg\" alt=\"Open In Colab\"/></a>"
      ]
    },
    {
      "cell_type": "markdown",
      "source": [
        "# Your Instructions\n",
        "\n",
        "This code is designed to do everything we need it to do. Until we get to the parts where we are adjusting numbers (near the end of each section), you do not need to write any code. But you do need to make sure every code cell runs, because all the instructions we give the computer are necessary.\n",
        "\n",
        "Depending on your time constraints and your interest in programming, you can do one of two things:\n",
        "\n",
        "1. If you are interested in following along with the code, just scroll down slowly. Read the text cells and run the code cells by clicking the \"play\" button in the upper left hand corner. When you see a little checkmark and a number in brackets (e.g. [1]), you've successfully run the cells.\n",
        "\n",
        "2. If you have no interest in how the code works, select from the header menu Runtime > Run all and give the code a minute to execute. Then jump down to [Projectile Motion without Drag](#nodragplots) and look at the figures. Talk with your neighbors about what each graph is telling you. Then scroll to the next section -- [Projectile Motion with Drag](#dragplots) -- and follow the instructions there. Finally, jump to the [end](#comparingcoefficients) where you can put your own data in and find the drag coefficient. Make sure you do the reflection and compare with another group."
      ],
      "metadata": {
        "id": "3qSb4eZgGLXN"
      },
      "id": "3qSb4eZgGLXN"
    },
    {
      "cell_type": "markdown",
      "source": [
        "# Importing packages\n",
        "\n",
        "We are going to need to import some special tools to run this code. We can do that by telling the notebook to import the packages we need and give them certain nicknames (e.g. \"import numpy as np\" tells it to import numpy and call it \"np\" when we use it)."
      ],
      "metadata": {
        "id": "XM8lwPVYxVBJ"
      },
      "id": "XM8lwPVYxVBJ"
    },
    {
      "cell_type": "code",
      "source": [
        "import numpy as np\n",
        "import matplotlib.pyplot as plt\n",
        "import seaborn as sns"
      ],
      "metadata": {
        "id": "eF5-RoL-2bhJ"
      },
      "id": "eF5-RoL-2bhJ",
      "execution_count": null,
      "outputs": []
    },
    {
      "cell_type": "markdown",
      "id": "DTRgadinMb50",
      "metadata": {
        "id": "DTRgadinMb50"
      },
      "source": [
        "# Generating time series data of projectile motion\n",
        "\n",
        "In this notebook, we will explore projectile motion in some detail.\n",
        "This topic is often treated in an idealized setting (no air resistance, perfectly spherical object, etc.).\n",
        "Here, we will try to generate more realistic observations of projectile motion where there are a range of influences including variations in pressure, temperature, wind, and generally drag.\n",
        "We will even consider imperfections in measurement as would be found in sensor based observations of an object in motion.\n",
        "\n",
        "The goal of this exercise is to prepare a set of time-series data for many trajectories that we can subsequently analyze using standard time-series analysis tools."
      ]
    },
    {
      "cell_type": "markdown",
      "source": [
        "## Projectile motion\n",
        "\n",
        "From Newton's second law, we know that the acceleration of an object is determined by its mass and the forces acting on it:\n",
        "$$\n",
        "\\vec{F} = m\\vec{a}\n",
        "$$\n",
        "where $\\vec{F}$ is the force, $m$ is the mass, and $\\vec{a}$ is the acceleration.\n",
        "For easy of plotting to see our results, we will consider a two dimensional world where $x$ represents the horizontal distance and $y$ represents the vertical height.\n",
        "Thus, our forces and acceleration have a horizontal and vertical component:\n",
        "$$\n",
        "\\vec{F} = F_{x}\\ \\hat{x} + F_{y}\\ \\hat{y} = m (a_{x}\\ \\hat{x} + a_{y}\\ \\hat{y})\n",
        "$$\n",
        "\n",
        "Now, for a projectile which has been propelled from the ground into the air, the only force that is considered in the idealized setting is gravity which only acts in the vertical component:\n",
        "\n",
        "$$\n",
        "\\vec{F}_g = m(0\\ \\hat{x}-g\\ \\hat{y}).\n",
        "$$\n",
        "\n",
        "Let's begin by writing a program that can simulate the projectile motion under only this force.\n",
        "To do so, we consider the position ($\\vec{r}(t)$), velocity ($\\vec{v}(t)$), and accleration ($\\vec{a}(t)$) of the projectile, which are all functions of time $t$:\n",
        "\n",
        "$$\n",
        "\\begin{align}\n",
        "  \\vec{a} &= \\frac{d}{d t}\\vec{v}\\\\\n",
        "  \\vec{y} &= \\frac{d}{dt}\\vec{r}.\n",
        "\\end{align}\n",
        "$$\n",
        "\n",
        "From this, we can write Newton's Second Law for projectile motion as:\n",
        "\n",
        "$$\n",
        "\\begin{align}\n",
        "\\vec{a} &= \\frac{1}{m}F_g \\\\\n",
        "\\vec{a} &= (0\\ \\hat{x}-g\\ \\hat{y})\\\\\n",
        "\\frac{d}{dt}\\vec{v} & = (0\\ \\hat{x}-g\\ \\hat{y})\\\\\n",
        "\\frac{d^2}{dt^2}\\vec{r} &= (0\\ \\hat{x}-g\\ \\hat{y})\n",
        "\\end{align}\n",
        "$$"
      ],
      "metadata": {
        "id": "m1AY-nUTuJ0a"
      },
      "id": "m1AY-nUTuJ0a"
    },
    {
      "cell_type": "markdown",
      "source": [
        "## Numerically solving projectile motion\n",
        "In order to approximate the position as a function of time ($\\vec{r}(t)$), we need to know our \"initial conditions\" (the starting position, velocity, and acceleration) of the object undergoing projectile motion. Acceleration is constant, which leaves position and velocity.\n",
        "\n",
        "### Numerical Derivatives\n",
        "\n",
        "We can use the definition of derivative to help us solve this problem numerically (using a computer rather than solving by hand). That definition is:\n",
        "\n",
        "$$\n",
        "\\frac{d}{dt}f(t) = \\lim_{\\Delta t\\to 0} \\frac{f(t+\\Delta t) - f(t)}{\\Delta t}\n",
        "$$\n",
        "\n",
        "What we are going to do is to take $\\Delta t$ to a very small number, rather than all the way to zero:\n",
        "\n",
        "$$\n",
        "\\frac{d}{dt}f(t) \\approx\\frac{f(t+\\Delta t) - f(t)}{\\Delta t}\n",
        "$$\n",
        "This says that we can approximate our derivative using the equation above, and it's valid for very small values of $\\Delta t$. The smaller we make $\\Delta t$, the better our approximation (to a point), but also the longer it takes the code to run.\n",
        "\n",
        "### Euler's Method\n",
        "\n",
        "If we know something about the derivative of our function, we can use this numerical derivative definition to understand how the function evolves over time:\n",
        "\n",
        "$$\n",
        "\\begin{align}\n",
        "f'(t) & \\approx\\frac{f(t+\\Delta t) - f(t)}{\\Delta t}\\\\\n",
        "f(t + \\Delta t) &\\approx f(t) + f'(t)\\Delta t\n",
        "\\end{align}\n",
        "$$\n",
        "\n",
        "This should look familar. Remember our kinematics equations?\n",
        "\n",
        "$$\n",
        "\\begin{align}\n",
        "r_{f} & = r_{i} + v_{i} \\Delta t + a (t_{f}^{2} - t_{i}^{2}\\\\\n",
        "v_{f} &= v_{i} + a \\Delta t \\\\\n",
        "v_{f}^2 &= v_{i}^2 + 2 a \\Delta x\n",
        "\\end{align}\n",
        "$$\n",
        "\n",
        "The second equation is exactly this -- but we can use an equals sign because the acceleration is a constant and not a function of time (it's a special case)\n",
        "\n",
        "$$\n",
        "\\begin{align}\n",
        "v(t + \\Delta t) &\\approx v(t) + a(t)\\Delta t\n",
        "\\end{align}\n",
        "$$\n",
        "\n",
        "We can then apply the same formula to see how position changes if we know how velocity changes:\n",
        "\n",
        "$$\n",
        "\\begin{align}\n",
        "r(t + \\Delta t) &\\approx r(t) + v(t)\\Delta t\n",
        "\\end{align}\n",
        "$$\n",
        "\n",
        "This is called \"Euler's method.\""
      ],
      "metadata": {
        "id": "Z2nbW08AuPx9"
      },
      "id": "Z2nbW08AuPx9"
    },
    {
      "cell_type": "markdown",
      "source": [
        "# Coding Projectile Motion Without Drag"
      ],
      "metadata": {
        "id": "8GSEPXoPxliM"
      },
      "id": "8GSEPXoPxliM"
    },
    {
      "cell_type": "code",
      "source": [
        "# define our acceleration for projectile motion without drag\n",
        "g = 9.8 #m/s^2\n",
        "\n",
        "def acceleration(g):\n",
        "  return [0,-1.*g]\n",
        "\n",
        "#define a function that calculates velocity using Euler's method\n",
        "def velocity(vi, a, dt):\n",
        "  vf = vi + a * dt\n",
        "  return vf\n",
        "\n",
        "\n",
        "#define a function that calculates position using Euler's method\n",
        "def position(ri, v, dt):\n",
        "  rf = ri + v * dt\n",
        "  return rf"
      ],
      "metadata": {
        "id": "KZ5yT5VX6enf"
      },
      "id": "KZ5yT5VX6enf",
      "execution_count": null,
      "outputs": []
    },
    {
      "cell_type": "code",
      "source": [
        "# define a function that will loop over a time interval and use Euler's method over each time step\n",
        "def check_if_in_air(ry):\n",
        "  if ry > 0:\n",
        "    return True\n",
        "  else:\n",
        "    return False\n",
        "\n",
        "def projectile_motion(ti, dt, ri, vi, ai, g):\n",
        "  #create lists to store results\n",
        "  time = [ti]\n",
        "  ax = [ai[0]]\n",
        "  ay = [ai[1]]\n",
        "  vx = [vi[0]]\n",
        "  vy = [vi[1]]\n",
        "  rx = [ri[0]]\n",
        "  ry = [ri[1]]\n",
        "\n",
        "  #use Euler's method\n",
        "  n = 1\n",
        "  in_air = True\n",
        "  while in_air:\n",
        "    t = time[n-1]+dt\n",
        "    time.append(t)\n",
        "    a = np.array([ax[n-1],ay[n-1]])\n",
        "    v = np.array([vx[n-1],vy[n-1]])\n",
        "    r = np.array([rx[n-1],ry[n-1]])\n",
        "    v_n = velocity(v,a,dt)\n",
        "    vx.append(v_n[0])\n",
        "    vy.append(v_n[1])\n",
        "    r_n = position(r,v,dt)\n",
        "    rx.append(r_n[0])\n",
        "    ry.append(r_n[1])\n",
        "    a_n = acceleration(g)\n",
        "    ax.append(a_n[0])\n",
        "    ay.append(a_n[1])\n",
        "    in_air = check_if_in_air(ry[-1])\n",
        "    n += 1\n",
        "  #return the results we found\n",
        "  return time, ax, ay, vx, vy, rx, ry"
      ],
      "metadata": {
        "id": "geBtrkCcc1AL"
      },
      "id": "geBtrkCcc1AL",
      "execution_count": null,
      "outputs": []
    },
    {
      "cell_type": "code",
      "source": [
        "# define functions to plot the motion\n",
        "\n",
        "# plot the trajectory\n",
        "def plot_trajectory(rx, ry):\n",
        "  fig, axes = plt.subplots(1, 1,figsize = (6,4))\n",
        "  sns.scatterplot(x=rx,y=ry)\n",
        "  plt.axhline(y=0, color = \"black\")\n",
        "  axes.set_title('x position v y position')\n",
        "  plt.tight_layout()\n",
        "  plt.show()\n",
        "\n",
        "#plot the x and y positions, velocities, and accelerations as a function of time\n",
        "def plot_components(t, ax, ay, vx, vy, rx, ry):\n",
        "  fig, axes = plt.subplots(3, 2,figsize = (12,8))\n",
        "\n",
        "  sns.scatterplot(ax = axes[0,0],x=t,y=vx)\n",
        "  axes[0,0].set_title('x-velocity')\n",
        "\n",
        "  sns.scatterplot(ax = axes[0,1],x=t,y=vy)\n",
        "  axes[0,1].set_title('y-velocity')\n",
        "\n",
        "  sns.scatterplot(ax = axes[1,0],x=t,y=rx)\n",
        "  axes[1,0].set_title('x-position')\n",
        "\n",
        "  sns.scatterplot(ax = axes[1,1],x=t,y=ry)\n",
        "  axes[1,1].set_title('y-position')\n",
        "\n",
        "  sns.scatterplot(ax = axes[2,0],x=t,y=ax)\n",
        "  axes[2,0].set_title('x-acceleration')\n",
        "\n",
        "  sns.scatterplot(ax = axes[2,1],x=t,y=ay)\n",
        "  axes[2,1].set_title('y-acceleration')\n",
        "\n",
        "  plt.tight_layout()\n",
        "  plt.show()\n",
        "\n",
        "\n"
      ],
      "metadata": {
        "id": "qjayb4m-ScGS"
      },
      "id": "qjayb4m-ScGS",
      "execution_count": null,
      "outputs": []
    },
    {
      "cell_type": "markdown",
      "source": [
        "## Plotting Projectile Motion Without Drag <a name=\"nodragplots\"></a>"
      ],
      "metadata": {
        "id": "Ba1niCdTNnFT"
      },
      "id": "Ba1niCdTNnFT"
    },
    {
      "cell_type": "markdown",
      "source": [
        "The code below plots projectile motion without drag.\n",
        "\n",
        "Try changing around the initial conditions below and see how the plots change."
      ],
      "metadata": {
        "id": "Tp98IkyCAvew"
      },
      "id": "Tp98IkyCAvew"
    },
    {
      "cell_type": "code",
      "source": [
        "# choose our initial conditions -- change the values here however you'd like!\n",
        "ti = 0.0 #s\n",
        "rix = 0.0 #m\n",
        "riy = 0.0 #m\n",
        "theta = 30 #degrees\n",
        "v_init = 20 #m/s\n",
        "\n",
        "# set other conditions  -- don't change anything below this comment\n",
        "dt = 0.01 #s\n",
        "vix = v_init*np.cos(np.deg2rad(theta)) #m/s\n",
        "viy = v_init*np.sin(np.deg2rad(theta)) #m/s\n",
        "aix = 0.0 #m/s^2\n",
        "aiy = -g #m/s^2\n",
        "ri = [rix, riy]\n",
        "vi = [vix, viy]\n",
        "ai = [aix, aiy]\n",
        "\n",
        "# run the projectile motion function\n",
        "t, ax, ay, vx, vy, rx, ry = projectile_motion(ti, dt, ri, vi, ai, g)"
      ],
      "metadata": {
        "id": "LyrBsXRc7TG8"
      },
      "id": "LyrBsXRc7TG8",
      "execution_count": null,
      "outputs": []
    },
    {
      "cell_type": "code",
      "source": [
        "plot_trajectory(rx, ry)"
      ],
      "metadata": {
        "id": "tTE_FSCWBo92"
      },
      "id": "tTE_FSCWBo92",
      "execution_count": null,
      "outputs": []
    },
    {
      "cell_type": "code",
      "source": [
        "plot_components(t, ax, ay, vx, vy, rx, ry)"
      ],
      "metadata": {
        "id": "b44R8HZFBt2K"
      },
      "id": "b44R8HZFBt2K",
      "execution_count": null,
      "outputs": []
    },
    {
      "cell_type": "markdown",
      "source": [
        "# Coding Projectile Motion with Drag"
      ],
      "metadata": {
        "id": "XrHLpZbgAm9I"
      },
      "id": "XrHLpZbgAm9I"
    },
    {
      "cell_type": "markdown",
      "id": "qzOFnUfRl-B-",
      "metadata": {
        "id": "qzOFnUfRl-B-"
      },
      "source": [
        "The most common additional force beyond gravity is to incorporate \"drag.\" This drag force will oppose the motion of the object, slowing it down.\n",
        "\n",
        "The equation for the drag force exerted is written:\n",
        "\n",
        "$$\n",
        "\\vec{F}_d = \\frac{1}{2}\\rho\\vec{v}^2c_dA\n",
        "$$\n",
        "\n",
        "where $\\rho$ is the density of the air/fluid, $c_d$ is the drag coefficient (based on the projectile shape and material properties), and $A$ is the area of the projectile surface which is exerting force on the air/fluid.\n",
        "\n",
        "Although this equation initially appears simple, it's components can be very complex.\n",
        "For example,\n",
        "1. $\\rho$ - the density varies with temperature, pressure, and humidity, but generally we can consider the air density near the surface of the earth to be [1.293 kg/m^3](https://www.earthdata.nasa.gov/topics/atmosphere/atmospheric-pressure/air-mass-density#:~:text=Pure%2C%20dry%20air%20has%20a,a%20pressure%20of%20101.325%20kPa.)\n",
        "1. $c_d$ - the drag coefficient depends on the material properties, the surface area in the direction of movement, and the fluid properties. **The value of this coefficient is what you will be trying to determine.**\n",
        "\n",
        "Though we will not consider the full complexity of this drag, we can consider some cases for projectile motion through the air.\n",
        "Doing so, we can add the drag force to our equation for Newton's 2nd Law:\n",
        "\n",
        "$$\n",
        "\\begin{align}\n",
        "\\vec{a} &= \\frac{1}{m}(\\vec{F}_g + \\vec{F}_d) \\\\\n",
        "\\vec{a} &= (0 -  \\frac{\\rho c_d A}{2m}v_x^2 )\\hat{x} - ( g + \\frac{\\rho c_d A}{2m}v_y^2)\\hat{y}\n",
        ".\\end{align}\n",
        "$$\n",
        "\n",
        "This means our acceleration now depends on velocity, where before it was a constant."
      ]
    },
    {
      "cell_type": "code",
      "source": [
        "# define our acceleration for projectile motion with drag - note that we can use the same position and velocity calculations, only a will change\n",
        "\n",
        "def acceleration_drag(g, rho, c_d, A, m, vi):\n",
        "  a_g = acceleration(g)\n",
        "  a_drag = -1.*(rho * c_d * A)/(2. * m) *np.square(vi)\n",
        "  a = a_g + a_drag\n",
        "  return a"
      ],
      "metadata": {
        "id": "O2daaonLJ1p_"
      },
      "id": "O2daaonLJ1p_",
      "execution_count": null,
      "outputs": []
    },
    {
      "cell_type": "code",
      "source": [
        "def projectile_motion_drag(ti, dt, ri, vi, ai, g, rho, A, m, c_d):\n",
        "  #create lists to store results\n",
        "  time = [ti]\n",
        "  ax = [ai[0]]\n",
        "  ay = [ai[1]]\n",
        "  vx = [vi[0]]\n",
        "  vy = [vi[1]]\n",
        "  rx = [ri[0]]\n",
        "  ry = [ri[1]]\n",
        "\n",
        "  #use Euler's method\n",
        "  n = 1\n",
        "  in_air = True\n",
        "  while in_air:\n",
        "    t = time[n-1]+dt\n",
        "    time.append(t)\n",
        "    a = np.array([ax[n-1],ay[n-1]])\n",
        "    v = np.array([vx[n-1],vy[n-1]])\n",
        "    r = np.array([rx[n-1],ry[n-1]])\n",
        "    v_n = velocity(v,a,dt)\n",
        "    vx.append(v_n[0])\n",
        "    vy.append(v_n[1])\n",
        "    r_n = position(r,v,dt)\n",
        "    rx.append(r_n[0])\n",
        "    ry.append(r_n[1])\n",
        "    a_n = acceleration_drag(g, rho, c_d, A, m, v_n)\n",
        "    ax.append(a_n[0])\n",
        "    ay.append(a_n[1])\n",
        "    in_air = check_if_in_air(ry[-1])\n",
        "    n += 1\n",
        "  #return the results we found\n",
        "  return time, ax, ay, vx, vy, rx, ry"
      ],
      "metadata": {
        "id": "zcKECIfpfQhL"
      },
      "id": "zcKECIfpfQhL",
      "execution_count": null,
      "outputs": []
    },
    {
      "cell_type": "markdown",
      "source": [
        "## Plotting Projectile Motion With Drag  <a name=\"dragplots\"></a>"
      ],
      "metadata": {
        "id": "R_cH8F7gN6W8"
      },
      "id": "R_cH8F7gN6W8"
    },
    {
      "cell_type": "markdown",
      "source": [
        "We are going to use our data from shooting tennis balls to try to estimate the drag coefficient. Let's start by determining the other constants that go into the drag equation.\n",
        "\n",
        "First, what is the cross-sectional area of a tennis ball? The average tennis ball diameter is about $6.75 cm$, so we can use the equation for the cross-sectional area (just the area of a circle with the same radius)\n",
        "\n",
        "$$ A = \\pi R^2$$\n",
        "\n",
        "where $R = 0.03375 m$.\n",
        "\n",
        "The average mass of a tennis ball is $57\\ g$, so we need to put that into SI units of kg.\n",
        "\n",
        "We already know air density, as it was given above as $1.293 kg/ m^3$\n",
        "\n",
        "The only remaining constant is the drag coefficient. I've put in 0.0 for now, so go ahead and play around with that number and your initial conditions to see how it changes the graphs below."
      ],
      "metadata": {
        "id": "aCubyqtROZkE"
      },
      "id": "aCubyqtROZkE"
    },
    {
      "cell_type": "code",
      "source": [
        "#set the drag coefficient\n",
        "c_d = 0.0\n",
        "\n",
        "#set initial conditions\n",
        "ti = 0.0 #s\n",
        "rix = 0.0 #m\n",
        "riy = 0.0 #m\n",
        "theta = 30 #degrees\n",
        "v_init = 20 #m/s\n",
        "\n",
        "#set other constants -- only change these if you want to see how other objects might move differently with air drag\n",
        "A = np.pi * (0.03375)**2 #m^2\n",
        "m = 0.058 #kg\n",
        "\n",
        "# set other conditions  -- don't change anything below this comment\n",
        "rho = 1.293 #kg/m^3\n",
        "dt = 0.01 #s\n",
        "vix = v_init*np.cos(np.deg2rad(theta)) #m/s\n",
        "viy = v_init*np.sin(np.deg2rad(theta)) #m/s\n",
        "ai = acceleration_drag(g, rho, c_d, A, m, np.array([vix,viy]))\n",
        "aix = ai[0]\n",
        "aiy = ai[1]\n",
        "ri = [rix, riy]\n",
        "vi = [vix, viy]\n",
        "ai = [aix, aiy]\n",
        "\n",
        "#run the projectile motion simulation\n",
        "t, ax, ay, vx, vy, rx, ry = projectile_motion_drag(ti, dt, ri, vi, ai, g, rho, A, m, c_d)\n"
      ],
      "metadata": {
        "id": "iM99yQrpTCzY"
      },
      "id": "iM99yQrpTCzY",
      "execution_count": null,
      "outputs": []
    },
    {
      "cell_type": "code",
      "source": [
        "plot_trajectory(rx, ry)"
      ],
      "metadata": {
        "id": "V_cx0al4S_RY"
      },
      "id": "V_cx0al4S_RY",
      "execution_count": null,
      "outputs": []
    },
    {
      "cell_type": "code",
      "source": [
        "plot_components(t, ax, ay, vx, vy, rx, ry)"
      ],
      "metadata": {
        "id": "7KtEpbxjS-Jd"
      },
      "id": "7KtEpbxjS-Jd",
      "execution_count": null,
      "outputs": []
    },
    {
      "cell_type": "markdown",
      "source": [
        "# Comparing Drag Coefficients  <a name=\"comparingcoefficients\"></a>"
      ],
      "metadata": {
        "id": "FWR9bp5Lfzw1"
      },
      "id": "FWR9bp5Lfzw1"
    },
    {
      "cell_type": "markdown",
      "source": [
        "The first thing we are going to do is define some functions that will let us plot multiple scenarios side by side:"
      ],
      "metadata": {
        "id": "WbrahepZf4Ir"
      },
      "id": "WbrahepZf4Ir"
    },
    {
      "cell_type": "code",
      "source": [
        "import pandas as pd #this is a way of storing and organizing data\n",
        "\n",
        "def compare_trajectories(ri, vi, ai, g, rho, A, m, drag_coefficients):\n",
        "  t, ax, ay, vx, vy, rx, ry = projectile_motion_drag(ti, dt, ri, vi, ai, g, rho, A, m, 0.)\n",
        "  c_drag = 0.0*np.ones_like(t)\n",
        "  no_drag = {\"t (s)\": t, \"a_x (m/s^2)\": ax, \"a_y (m/s^2)\": ay, \"v_x (m/s)\": vx, \"v_y (m/s)\": vy, \"x (m)\": rx, \"y (m)\": ry, \"drag coefficient\": c_drag }\n",
        "  df = pd.DataFrame(data = no_drag)\n",
        "  for c_d in drag_coefficients:\n",
        "    t, ax, ay, vx, vy, rx, ry = projectile_motion_drag(ti, dt, ri, vi, ai, g, rho, A, m, c_d)\n",
        "    c_drag = c_d*np.ones_like(t)\n",
        "    temp = {\"t (s)\": t, \"a_x (m/s^2)\": ax, \"a_y (m/s^2)\": ay, \"v_x (m/s)\": vx, \"v_y (m/s)\": vy, \"x (m)\": rx, \"y (m)\": ry, \"drag coefficient\": c_drag }\n",
        "    df2 = pd.DataFrame(data = temp)\n",
        "    df = pd.concat([df, df2])\n",
        "  df = df.reset_index(drop=True)\n",
        "  return df"
      ],
      "metadata": {
        "id": "lly6-ikTf3ab"
      },
      "id": "lly6-ikTf3ab",
      "execution_count": null,
      "outputs": []
    },
    {
      "cell_type": "markdown",
      "source": [
        "We're also going to write a function that will make the appropriate plots we need for this."
      ],
      "metadata": {
        "id": "ct4eTENevztO"
      },
      "id": "ct4eTENevztO"
    },
    {
      "cell_type": "code",
      "source": [
        "def plot_with_drag(projectile_data, final_coords):\n",
        "\n",
        "  sns.relplot(data = projectile_data, x = \"x (m)\", y = \"y (m)\", hue = \"drag coefficient\", palette = \"rocket_r\", height=4, aspect=3, alpha = 0.75)\n",
        "  plt.show()\n",
        "\n",
        "  fig, axes = plt.subplots(1, 2,figsize = (12,4))\n",
        "\n",
        "  sns.scatterplot(ax = axes[0], data = final_coords, x = \"drag coefficient\", y = \"x (m)\")\n",
        "  axes[0].set_title('distance travelled')\n",
        "\n",
        "  sns.scatterplot(ax = axes[1], data = final_coords, x = \"drag coefficient\", y = \"t (s)\")\n",
        "  axes[1].set_title('time in air')\n",
        "  plt.show()\n",
        "\n"
      ],
      "metadata": {
        "id": "HhSXXTi4wlYT"
      },
      "id": "HhSXXTi4wlYT",
      "execution_count": null,
      "outputs": []
    },
    {
      "cell_type": "markdown",
      "source": [
        "## Interpreting the data for different drag coefficients\n",
        "\n",
        "comparingcoefficients\n",
        "\n",
        "You can visualize the different trajectories with different drag coefficients here. First, choose one of the tennis ball launches and match the initial conditions to that particular launch:"
      ],
      "metadata": {
        "id": "izcnx61RkTpW"
      },
      "id": "izcnx61RkTpW"
    },
    {
      "cell_type": "code",
      "source": [
        "rix = 0.0 #m\n",
        "riy = 0.0 #m\n",
        "theta = 30 #degrees\n",
        "v_init = 20 #m/s"
      ],
      "metadata": {
        "id": "4i3yIuUwlGqD"
      },
      "id": "4i3yIuUwlGqD",
      "execution_count": null,
      "outputs": []
    },
    {
      "cell_type": "markdown",
      "source": [
        "Now, make an array of different drag coefficients. You do this by creating a list inside square brackets, for example:\n",
        "\n",
        "```\n",
        "drag_coefficients = [0.1,0.3,0.5,0.7,0.9,1.1]\n",
        "```\n",
        "\n",
        "Go ahead and make a list like that at the top of the code block below. You can include as many as you want, just know that the more you include, the longer the code will take to run, and the messier your plot will be."
      ],
      "metadata": {
        "id": "f46a9HKTk-cl"
      },
      "id": "f46a9HKTk-cl"
    },
    {
      "cell_type": "code",
      "source": [
        "#make an array of drag coefficients (don't include 0)\n",
        "drag_coefficients = [0.1,0.3,0.5,0.7,0.9,1.1]\n",
        "\n",
        "#set other initial conditions and run the code -- don't change any of this\n",
        "ti = 0.0 #s\n",
        "dt = 0.01 #s\n",
        "vix = v_init*np.cos(np.deg2rad(theta)) #m/s\n",
        "viy = v_init*np.sin(np.deg2rad(theta)) #m/s\n",
        "ai = acceleration_drag(g, rho, c_d, A, m, np.array([vix,viy]))\n",
        "aix = ai[0]\n",
        "aiy = ai[1]\n",
        "\n",
        "ri = [rix, riy]\n",
        "vi = [vix, viy]\n",
        "ai = [aix, aiy]\n",
        "\n",
        "projectile_data = compare_trajectories(ri, vi, ai, g, rho, A, m, drag_coefficients)"
      ],
      "metadata": {
        "id": "aZXALCCxhypV"
      },
      "id": "aZXALCCxhypV",
      "execution_count": null,
      "outputs": []
    },
    {
      "cell_type": "markdown",
      "source": [
        "### Examining the data\n",
        "\n",
        "To see $x_f$ for each different drag coefficient, we can find the largest value of x for each drag coefficient. We can do this by grouping the data by drag coefficients."
      ],
      "metadata": {
        "id": "8XI91zqTmZgm"
      },
      "id": "8XI91zqTmZgm"
    },
    {
      "cell_type": "code",
      "source": [
        "final_coords = projectile_data[[\"x (m)\", \"t (s)\", \"drag coefficient\"]].groupby([\"drag coefficient\"]).max()"
      ],
      "metadata": {
        "id": "pqljpUysmY9K"
      },
      "id": "pqljpUysmY9K",
      "execution_count": null,
      "outputs": []
    },
    {
      "cell_type": "code",
      "source": [
        "final_coords"
      ],
      "metadata": {
        "id": "iyc70St_m3Nj"
      },
      "id": "iyc70St_m3Nj",
      "execution_count": null,
      "outputs": []
    },
    {
      "cell_type": "markdown",
      "source": [
        "Do any of these final x values match your actual data from the lab? Which are closest? Keep adjusting your drag coefficients to see if you can find something that makes sense."
      ],
      "metadata": {
        "id": "rvA0zT8-oPw7"
      },
      "id": "rvA0zT8-oPw7"
    },
    {
      "cell_type": "markdown",
      "source": [
        "### Visualizing the data"
      ],
      "metadata": {
        "id": "N_86iOppxB74"
      },
      "id": "N_86iOppxB74"
    },
    {
      "cell_type": "markdown",
      "source": [
        "Let's plot the trajectories for the different drag coefficients, and compare the distance traveled and the time in the air for different coefficients. The function below does all of those things."
      ],
      "metadata": {
        "id": "rgUR3c-bxW7_"
      },
      "id": "rgUR3c-bxW7_"
    },
    {
      "cell_type": "code",
      "source": [
        "plot_with_drag(projectile_data, final_coords)"
      ],
      "metadata": {
        "id": "0DpIGBJQxhuC"
      },
      "id": "0DpIGBJQxhuC",
      "execution_count": null,
      "outputs": []
    },
    {
      "cell_type": "markdown",
      "source": [
        "# Reflection"
      ],
      "metadata": {
        "id": "4gy-p8MRoW1p"
      },
      "id": "4gy-p8MRoW1p"
    },
    {
      "cell_type": "markdown",
      "source": [
        "Take the results you found and compare your drag coefficients with another group that used a different launch. Look at the dataframes and the visualizations, and talk through the following:\n",
        "\n",
        "Do you have similar drag coefficients? Do those drag coefficients seem reasonable? What if I told you [the average drag coefficient for a tennis ball was around 0.5?](https://twu.tennis-warehouse.com/learning_center/aerodynamics2.php)\n",
        "\n",
        "What factors (other than drag) could have caused changes in the ball's trajectory?"
      ],
      "metadata": {
        "id": "9euEKSnnoclm"
      },
      "id": "9euEKSnnoclm"
    }
  ],
  "metadata": {
    "colab": {
      "provenance": [],
      "toc_visible": true,
      "include_colab_link": true
    },
    "kernelspec": {
      "display_name": "Python 3 (ipykernel)",
      "language": "python",
      "name": "python3"
    },
    "language_info": {
      "codemirror_mode": {
        "name": "ipython",
        "version": 3
      },
      "file_extension": ".py",
      "mimetype": "text/x-python",
      "name": "python",
      "nbconvert_exporter": "python",
      "pygments_lexer": "ipython3",
      "version": "3.9.16"
    }
  },
  "nbformat": 4,
  "nbformat_minor": 5
}